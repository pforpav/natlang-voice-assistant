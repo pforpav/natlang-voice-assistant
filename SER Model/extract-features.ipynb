{
 "cells": [
  {
   "cell_type": "code",
   "execution_count": 25,
   "metadata": {},
   "outputs": [],
   "source": [
    "import os\n",
    "import pandas as pd\n",
    "import librosa\n",
    "import math\n",
    "from tqdm import tqdm\n",
    "import json\n",
    "import numpy as np\n",
    "from sklearn.model_selection import train_test_split\n",
    "import tensorflow.keras as keras\n",
    "from pydub import AudioSegment"
   ]
  },
  {
   "cell_type": "code",
   "execution_count": 26,
   "metadata": {},
   "outputs": [],
   "source": [
    "RAVDESS_SONG = 'Data/RAVDESS-SONG/'\n",
    "RAVDESS_SPEECH = 'Data/RAVDESS-SPEECH/'\n",
    "SAVEE = 'Data/SAVEE/'\n",
    "CREMAD = 'Data/CREMAD/'\n",
    "TESS = 'Data/TESS/'"
   ]
  },
  {
   "cell_type": "code",
   "execution_count": 27,
   "metadata": {},
   "outputs": [
    {
     "data": {
      "text/plain": [
       "neutral     120\n",
       "angry        60\n",
       "sad          60\n",
       "fear         60\n",
       "happy        60\n",
       "surprise     60\n",
       "disgust      60\n",
       "Name: labels, dtype: int64"
      ]
     },
     "execution_count": 27,
     "metadata": {},
     "output_type": "execute_result"
    }
   ],
   "source": [
    "dir_list = os.listdir(SAVEE)\n",
    "\n",
    "emotion=[]\n",
    "path = []\n",
    "\n",
    "for i in dir_list:\n",
    "    if i[-8:-6]=='_a':\n",
    "        emotion.append('angry')\n",
    "    elif i[-8:-6]=='_d':\n",
    "        emotion.append('disgust')\n",
    "    elif i[-8:-6]=='_f':\n",
    "        emotion.append('fear')\n",
    "    elif i[-8:-6]=='_h':\n",
    "        emotion.append('happy')\n",
    "    elif i[-8:-6]=='_n':\n",
    "        emotion.append('neutral')\n",
    "    elif i[-8:-6]=='sa':\n",
    "        emotion.append('sad')\n",
    "    elif i[-8:-6]=='su':\n",
    "        emotion.append('surprise')\n",
    "    \n",
    "    path.append(SAVEE + i)\n",
    "    \n",
    "SAVEE_df = pd.DataFrame(emotion, columns = ['labels'])\n",
    "SAVEE_df['source'] = 'SAVEE'\n",
    "SAVEE_df['path'] = path\n",
    "SAVEE_df.labels.value_counts()"
   ]
  },
  {
   "cell_type": "code",
   "execution_count": 28,
   "metadata": {},
   "outputs": [
    {
     "data": {
      "text/plain": [
       "neutral     282\n",
       "angry       191\n",
       "disgust     191\n",
       "fear        191\n",
       "sad         191\n",
       "surprise    185\n",
       "happy       185\n",
       "Name: labels, dtype: int64"
      ]
     },
     "execution_count": 28,
     "metadata": {},
     "output_type": "execute_result"
    }
   ],
   "source": [
    "dir_list = os.listdir(RAVDESS_SPEECH)\n",
    "dir_list.sort()\n",
    "dir_list.pop(0)\n",
    "\n",
    "emotion = []\n",
    "path = []\n",
    "\n",
    "for i in dir_list:\n",
    "    \n",
    "    fname = os.listdir(RAVDESS_SPEECH + i)\n",
    "    \n",
    "    for f in fname[:-1]:\n",
    "        parsed = f.split('.')[0].split('-')\n",
    "        emotion.append(int(parsed[2]))\n",
    "        path.append(RAVDESS_SPEECH + i + '/' + f)\n",
    "        \n",
    "RAV_df_1 = pd.DataFrame(emotion, columns = ['labels'])\n",
    "RAV_df_1 = RAV_df_1.replace({1:'neutral', 2:'neutral', 3:'happy', 4:'sad', 5:'angry', 6:'fear', 7:'disgust', 8:'surprise'})\n",
    "RAV_df_1['source'] = 'RAVDESS_SPEECH'  \n",
    "RAV_df_1['path'] = path\n",
    "RAV_df_1.labels.value_counts()"
   ]
  },
  {
   "cell_type": "code",
   "execution_count": 29,
   "metadata": {},
   "outputs": [
    {
     "data": {
      "text/plain": [
       "neutral    276\n",
       "fear       184\n",
       "happy      184\n",
       "angry      184\n",
       "sad        184\n",
       "Name: labels, dtype: int64"
      ]
     },
     "execution_count": 29,
     "metadata": {},
     "output_type": "execute_result"
    }
   ],
   "source": [
    "dir_list = os.listdir(RAVDESS_SONG)\n",
    "dir_list.sort()\n",
    "dir_list.pop(0)\n",
    "\n",
    "emotion = []\n",
    "path = []\n",
    "\n",
    "for i in dir_list:\n",
    "    \n",
    "    fname = os.listdir(RAVDESS_SONG + i)\n",
    "    \n",
    "    for f in fname:\n",
    "        \n",
    "        parsed = f.split('.')[0].split('-')\n",
    "        emotion.append(int(parsed[2]))\n",
    "        path.append(RAVDESS_SONG + i + '/' + f)\n",
    "        \n",
    "RAV_df_2 = pd.DataFrame(emotion, columns = ['labels'])\n",
    "RAV_df_2 = RAV_df_2.replace({1:'neutral', 2:'neutral', 3:'happy', 4:'sad', 5:'angry', 6:'fear', 7:'disgust', 8:'surprise'})\n",
    "RAV_df_2['source'] = 'RAVDESS_SONG'  \n",
    "RAV_df_2['path'] = path\n",
    "RAV_df_2.labels.value_counts()"
   ]
  },
  {
   "cell_type": "code",
   "execution_count": 30,
   "metadata": {},
   "outputs": [
    {
     "name": "stdout",
     "output_type": "stream",
     "text": [
      "2800\n",
      "2800\n"
     ]
    },
    {
     "data": {
      "text/plain": [
       "neutral     400\n",
       "disgust     400\n",
       "fear        400\n",
       "surprise    400\n",
       "angry       400\n",
       "happy       400\n",
       "sad         400\n",
       "Name: labels, dtype: int64"
      ]
     },
     "execution_count": 30,
     "metadata": {},
     "output_type": "execute_result"
    }
   ],
   "source": [
    "dir_list = os.listdir(TESS)\n",
    "dir_list.sort()\n",
    "dir_list.pop(0)\n",
    "\n",
    "path = []\n",
    "emotion = []\n",
    "\n",
    "for i in dir_list:\n",
    "    fname = os.listdir(TESS + i)\n",
    "    for f in fname:\n",
    "        if i == 'OAF_angry' or i == 'YAF_angry':\n",
    "            emotion.append('angry')\n",
    "        elif i == 'OAF_disgust' or i == 'YAF_disgust':\n",
    "            emotion.append('disgust')\n",
    "        elif i == 'OAF_Fear' or i == 'YAF_fear':\n",
    "            emotion.append('fear')\n",
    "        elif i == 'OAF_happy' or i == 'YAF_happy':\n",
    "            emotion.append('happy')\n",
    "        elif i == 'OAF_neutral' or i == 'YAF_neutral':\n",
    "            emotion.append('neutral')                                \n",
    "        elif i == 'OAF_Pleasant_surprise' or i == 'YAF_pleasant_surprised':\n",
    "            emotion.append('surprise')               \n",
    "        elif i == 'OAF_Sad' or i == 'YAF_sad':\n",
    "            emotion.append('sad')\n",
    "        \n",
    "        path.append(TESS + i + '/' + f)\n",
    "\n",
    "print(len(path))\n",
    "print(len(emotion))\n",
    "TESS_df = pd.DataFrame(emotion, columns = ['labels'])\n",
    "TESS_df['source'] = 'TESS'\n",
    "TESS_df['path'] = path\n",
    "TESS_df.labels.value_counts()"
   ]
  },
  {
   "cell_type": "code",
   "execution_count": 31,
   "metadata": {},
   "outputs": [
    {
     "data": {
      "text/plain": [
       "disgust    1271\n",
       "fear       1271\n",
       "angry      1271\n",
       "happy      1271\n",
       "sad        1271\n",
       "neutral    1087\n",
       "Name: labels, dtype: int64"
      ]
     },
     "execution_count": 31,
     "metadata": {},
     "output_type": "execute_result"
    }
   ],
   "source": [
    "dir_list = os.listdir(CREMAD)\n",
    "\n",
    "emotion = []\n",
    "path = []\n",
    "\n",
    "for i in dir_list: \n",
    "    part = i.split('_')\n",
    "    if part[2] == 'SAD':\n",
    "        emotion.append('sad')\n",
    "    elif part[2] == 'ANG':\n",
    "        emotion.append('angry')\n",
    "    elif part[2] == 'DIS':\n",
    "        emotion.append('disgust')\n",
    "    elif part[2] == 'FEA':\n",
    "        emotion.append('fear')\n",
    "    elif part[2] == 'HAP':\n",
    "        emotion.append('happy')\n",
    "    elif part[2] == 'NEU':\n",
    "        emotion.append('neutral')\n",
    "    path.append(CREMAD + i)\n",
    "    \n",
    "CREMA_df = pd.DataFrame(emotion, columns = ['labels'])\n",
    "CREMA_df['source'] = 'CREMA'\n",
    "CREMA_df['path'] = path\n",
    "CREMA_df.labels.value_counts()"
   ]
  },
  {
   "cell_type": "code",
   "execution_count": 32,
   "metadata": {},
   "outputs": [
    {
     "data": {
      "text/plain": [
       "2    2165\n",
       "6    2106\n",
       "4    2106\n",
       "1    2106\n",
       "3    2100\n",
       "5    1922\n",
       "0     645\n",
       "Name: int_label, dtype: int64"
      ]
     },
     "execution_count": 32,
     "metadata": {},
     "output_type": "execute_result"
    }
   ],
   "source": [
    "df = pd.concat([SAVEE_df, RAV_df_1, RAV_df_2, TESS_df, CREMA_df], axis = 0)\n",
    "df = df.reset_index(drop=True)\n",
    "df['int_label'] = df['labels'].rank(method='dense', ascending=False).astype(int)\n",
    "df['int_label'] -= 1\n",
    "df['int_label'].value_counts()"
   ]
  },
  {
   "cell_type": "code",
   "execution_count": 33,
   "metadata": {},
   "outputs": [
    {
     "data": {
      "text/plain": [
       "array(['SAVEE', 'RAVDESS_SPEECH', 'RAVDESS_SONG', 'TESS', 'CREMA'],\n",
       "      dtype=object)"
      ]
     },
     "execution_count": 33,
     "metadata": {},
     "output_type": "execute_result"
    }
   ],
   "source": [
    "df.source.unique()"
   ]
  },
  {
   "cell_type": "code",
   "execution_count": 34,
   "metadata": {},
   "outputs": [],
   "source": [
    "def check_duration(df):\n",
    "    max_dur = 0\n",
    "    \n",
    "    for index, row in tqdm(df.iterrows()):\n",
    "        \n",
    "        SAMPLE_RATE = 22050\n",
    "        y, sr = librosa.load(row.path)\n",
    "\n",
    "        TRACK_DURATION = librosa.get_duration(y=y, sr=SAMPLE_RATE)\n",
    "        if TRACK_DURATION > max_dur:\n",
    "            max_dur = TRACK_DURATION\n",
    "    \n",
    "    return max_dur"
   ]
  },
  {
   "cell_type": "code",
   "execution_count": 15,
   "metadata": {},
   "outputs": [
    {
     "name": "stderr",
     "output_type": "stream",
     "text": [
      "13150it [11:33, 18.96it/s]"
     ]
    },
    {
     "name": "stdout",
     "output_type": "stream",
     "text": [
      "7.138730158730159\n"
     ]
    },
    {
     "name": "stderr",
     "output_type": "stream",
     "text": [
      "\n"
     ]
    }
   ],
   "source": [
    "print(check_duration(df))"
   ]
  },
  {
   "cell_type": "code",
   "execution_count": 41,
   "metadata": {},
   "outputs": [],
   "source": [
    "def pad_audio(df):\n",
    "    \n",
    "    for index, row in tqdm(df.iterrows()):\n",
    "        \n",
    "        SAMPLE_RATE = 22050\n",
    "        y, sr = librosa.load(row.path, sr=SAMPLE_RATE)\n",
    "        TRACK_DURATION = librosa.get_duration(y=y, sr=SAMPLE_RATE)\n",
    "\n",
    "        pad_ms = (7.5 * 1000) - (TRACK_DURATION * 1000) # milliseconds of silence needed\n",
    "        silence = AudioSegment.silent(duration=pad_ms)\n",
    "        audio = AudioSegment.from_file(row.path)\n",
    "\n",
    "        padded = audio + silence  # Adding silence after the audio\n",
    "        padded.export(row.path, format='wav')"
   ]
  },
  {
   "cell_type": "code",
   "execution_count": 42,
   "metadata": {},
   "outputs": [
    {
     "name": "stderr",
     "output_type": "stream",
     "text": [
      "0it [00:00, ?it/s]/Library/Python/3.7/site-packages/librosa/core/audio.py:162: UserWarning: PySoundFile failed. Trying audioread instead.\n",
      "  warnings.warn(\"PySoundFile failed. Trying audioread instead.\")\n",
      "0it [00:00, ?it/s]\n"
     ]
    },
    {
     "ename": "EOFError",
     "evalue": "",
     "output_type": "error",
     "traceback": [
      "\u001b[0;31m---------------------------------------------------------------------------\u001b[0m",
      "\u001b[0;31mRuntimeError\u001b[0m                              Traceback (most recent call last)",
      "\u001b[0;32m/Library/Python/3.7/site-packages/librosa/core/audio.py\u001b[0m in \u001b[0;36mload\u001b[0;34m(path, sr, mono, offset, duration, dtype, res_type)\u001b[0m\n\u001b[1;32m    145\u001b[0m     \u001b[0;32mtry\u001b[0m\u001b[0;34m:\u001b[0m\u001b[0;34m\u001b[0m\u001b[0;34m\u001b[0m\u001b[0m\n\u001b[0;32m--> 146\u001b[0;31m         \u001b[0;32mwith\u001b[0m \u001b[0msf\u001b[0m\u001b[0;34m.\u001b[0m\u001b[0mSoundFile\u001b[0m\u001b[0;34m(\u001b[0m\u001b[0mpath\u001b[0m\u001b[0;34m)\u001b[0m \u001b[0;32mas\u001b[0m \u001b[0msf_desc\u001b[0m\u001b[0;34m:\u001b[0m\u001b[0;34m\u001b[0m\u001b[0;34m\u001b[0m\u001b[0m\n\u001b[0m\u001b[1;32m    147\u001b[0m             \u001b[0msr_native\u001b[0m \u001b[0;34m=\u001b[0m \u001b[0msf_desc\u001b[0m\u001b[0;34m.\u001b[0m\u001b[0msamplerate\u001b[0m\u001b[0;34m\u001b[0m\u001b[0;34m\u001b[0m\u001b[0m\n",
      "\u001b[0;32m/Library/Python/3.7/site-packages/soundfile.py\u001b[0m in \u001b[0;36m__init__\u001b[0;34m(self, file, mode, samplerate, channels, subtype, endian, format, closefd)\u001b[0m\n\u001b[1;32m    628\u001b[0m                                          format, subtype, endian)\n\u001b[0;32m--> 629\u001b[0;31m         \u001b[0mself\u001b[0m\u001b[0;34m.\u001b[0m\u001b[0m_file\u001b[0m \u001b[0;34m=\u001b[0m \u001b[0mself\u001b[0m\u001b[0;34m.\u001b[0m\u001b[0m_open\u001b[0m\u001b[0;34m(\u001b[0m\u001b[0mfile\u001b[0m\u001b[0;34m,\u001b[0m \u001b[0mmode_int\u001b[0m\u001b[0;34m,\u001b[0m \u001b[0mclosefd\u001b[0m\u001b[0;34m)\u001b[0m\u001b[0;34m\u001b[0m\u001b[0;34m\u001b[0m\u001b[0m\n\u001b[0m\u001b[1;32m    630\u001b[0m         \u001b[0;32mif\u001b[0m \u001b[0mset\u001b[0m\u001b[0;34m(\u001b[0m\u001b[0mmode\u001b[0m\u001b[0;34m)\u001b[0m\u001b[0;34m.\u001b[0m\u001b[0missuperset\u001b[0m\u001b[0;34m(\u001b[0m\u001b[0;34m'r+'\u001b[0m\u001b[0;34m)\u001b[0m \u001b[0;32mand\u001b[0m \u001b[0mself\u001b[0m\u001b[0;34m.\u001b[0m\u001b[0mseekable\u001b[0m\u001b[0;34m(\u001b[0m\u001b[0;34m)\u001b[0m\u001b[0;34m:\u001b[0m\u001b[0;34m\u001b[0m\u001b[0;34m\u001b[0m\u001b[0m\n",
      "\u001b[0;32m/Library/Python/3.7/site-packages/soundfile.py\u001b[0m in \u001b[0;36m_open\u001b[0;34m(self, file, mode_int, closefd)\u001b[0m\n\u001b[1;32m   1183\u001b[0m         _error_check(_snd.sf_error(file_ptr),\n\u001b[0;32m-> 1184\u001b[0;31m                      \"Error opening {0!r}: \".format(self.name))\n\u001b[0m\u001b[1;32m   1185\u001b[0m         \u001b[0;32mif\u001b[0m \u001b[0mmode_int\u001b[0m \u001b[0;34m==\u001b[0m \u001b[0m_snd\u001b[0m\u001b[0;34m.\u001b[0m\u001b[0mSFM_WRITE\u001b[0m\u001b[0;34m:\u001b[0m\u001b[0;34m\u001b[0m\u001b[0;34m\u001b[0m\u001b[0m\n",
      "\u001b[0;32m/Library/Python/3.7/site-packages/soundfile.py\u001b[0m in \u001b[0;36m_error_check\u001b[0;34m(err, prefix)\u001b[0m\n\u001b[1;32m   1356\u001b[0m         \u001b[0merr_str\u001b[0m \u001b[0;34m=\u001b[0m \u001b[0m_snd\u001b[0m\u001b[0;34m.\u001b[0m\u001b[0msf_error_number\u001b[0m\u001b[0;34m(\u001b[0m\u001b[0merr\u001b[0m\u001b[0;34m)\u001b[0m\u001b[0;34m\u001b[0m\u001b[0;34m\u001b[0m\u001b[0m\n\u001b[0;32m-> 1357\u001b[0;31m         \u001b[0;32mraise\u001b[0m \u001b[0mRuntimeError\u001b[0m\u001b[0;34m(\u001b[0m\u001b[0mprefix\u001b[0m \u001b[0;34m+\u001b[0m \u001b[0m_ffi\u001b[0m\u001b[0;34m.\u001b[0m\u001b[0mstring\u001b[0m\u001b[0;34m(\u001b[0m\u001b[0merr_str\u001b[0m\u001b[0;34m)\u001b[0m\u001b[0;34m.\u001b[0m\u001b[0mdecode\u001b[0m\u001b[0;34m(\u001b[0m\u001b[0;34m'utf-8'\u001b[0m\u001b[0;34m,\u001b[0m \u001b[0;34m'replace'\u001b[0m\u001b[0;34m)\u001b[0m\u001b[0;34m)\u001b[0m\u001b[0;34m\u001b[0m\u001b[0;34m\u001b[0m\u001b[0m\n\u001b[0m\u001b[1;32m   1358\u001b[0m \u001b[0;34m\u001b[0m\u001b[0m\n",
      "\u001b[0;31mRuntimeError\u001b[0m: Error opening 'Data/SAVEE/JK_sa01.wav': File contains data in an unknown format.",
      "\nDuring handling of the above exception, another exception occurred:\n",
      "\u001b[0;31mEOFError\u001b[0m                                  Traceback (most recent call last)",
      "\u001b[0;32m<ipython-input-42-4f78c7c8ff91>\u001b[0m in \u001b[0;36m<module>\u001b[0;34m\u001b[0m\n\u001b[0;32m----> 1\u001b[0;31m \u001b[0mpad_audio\u001b[0m\u001b[0;34m(\u001b[0m\u001b[0mdf\u001b[0m\u001b[0;34m)\u001b[0m\u001b[0;34m\u001b[0m\u001b[0;34m\u001b[0m\u001b[0m\n\u001b[0m",
      "\u001b[0;32m<ipython-input-41-ae8877154589>\u001b[0m in \u001b[0;36mpad_audio\u001b[0;34m(df)\u001b[0m\n\u001b[1;32m      4\u001b[0m \u001b[0;34m\u001b[0m\u001b[0m\n\u001b[1;32m      5\u001b[0m         \u001b[0mSAMPLE_RATE\u001b[0m \u001b[0;34m=\u001b[0m \u001b[0;36m22050\u001b[0m\u001b[0;34m\u001b[0m\u001b[0;34m\u001b[0m\u001b[0m\n\u001b[0;32m----> 6\u001b[0;31m         \u001b[0my\u001b[0m\u001b[0;34m,\u001b[0m \u001b[0msr\u001b[0m \u001b[0;34m=\u001b[0m \u001b[0mlibrosa\u001b[0m\u001b[0;34m.\u001b[0m\u001b[0mload\u001b[0m\u001b[0;34m(\u001b[0m\u001b[0mrow\u001b[0m\u001b[0;34m.\u001b[0m\u001b[0mpath\u001b[0m\u001b[0;34m,\u001b[0m \u001b[0msr\u001b[0m\u001b[0;34m=\u001b[0m\u001b[0mSAMPLE_RATE\u001b[0m\u001b[0;34m)\u001b[0m\u001b[0;34m\u001b[0m\u001b[0;34m\u001b[0m\u001b[0m\n\u001b[0m\u001b[1;32m      7\u001b[0m         \u001b[0mTRACK_DURATION\u001b[0m \u001b[0;34m=\u001b[0m \u001b[0mlibrosa\u001b[0m\u001b[0;34m.\u001b[0m\u001b[0mget_duration\u001b[0m\u001b[0;34m(\u001b[0m\u001b[0my\u001b[0m\u001b[0;34m=\u001b[0m\u001b[0my\u001b[0m\u001b[0;34m,\u001b[0m \u001b[0msr\u001b[0m\u001b[0;34m=\u001b[0m\u001b[0mSAMPLE_RATE\u001b[0m\u001b[0;34m)\u001b[0m\u001b[0;34m\u001b[0m\u001b[0;34m\u001b[0m\u001b[0m\n\u001b[1;32m      8\u001b[0m \u001b[0;34m\u001b[0m\u001b[0m\n",
      "\u001b[0;32m/Library/Python/3.7/site-packages/librosa/core/audio.py\u001b[0m in \u001b[0;36mload\u001b[0;34m(path, sr, mono, offset, duration, dtype, res_type)\u001b[0m\n\u001b[1;32m    161\u001b[0m         \u001b[0;32mif\u001b[0m \u001b[0misinstance\u001b[0m\u001b[0;34m(\u001b[0m\u001b[0mpath\u001b[0m\u001b[0;34m,\u001b[0m \u001b[0;34m(\u001b[0m\u001b[0mstr\u001b[0m\u001b[0;34m,\u001b[0m \u001b[0mpathlib\u001b[0m\u001b[0;34m.\u001b[0m\u001b[0mPurePath\u001b[0m\u001b[0;34m)\u001b[0m\u001b[0;34m)\u001b[0m\u001b[0;34m:\u001b[0m\u001b[0;34m\u001b[0m\u001b[0;34m\u001b[0m\u001b[0m\n\u001b[1;32m    162\u001b[0m             \u001b[0mwarnings\u001b[0m\u001b[0;34m.\u001b[0m\u001b[0mwarn\u001b[0m\u001b[0;34m(\u001b[0m\u001b[0;34m\"PySoundFile failed. Trying audioread instead.\"\u001b[0m\u001b[0;34m)\u001b[0m\u001b[0;34m\u001b[0m\u001b[0;34m\u001b[0m\u001b[0m\n\u001b[0;32m--> 163\u001b[0;31m             \u001b[0my\u001b[0m\u001b[0;34m,\u001b[0m \u001b[0msr_native\u001b[0m \u001b[0;34m=\u001b[0m \u001b[0m__audioread_load\u001b[0m\u001b[0;34m(\u001b[0m\u001b[0mpath\u001b[0m\u001b[0;34m,\u001b[0m \u001b[0moffset\u001b[0m\u001b[0;34m,\u001b[0m \u001b[0mduration\u001b[0m\u001b[0;34m,\u001b[0m \u001b[0mdtype\u001b[0m\u001b[0;34m)\u001b[0m\u001b[0;34m\u001b[0m\u001b[0;34m\u001b[0m\u001b[0m\n\u001b[0m\u001b[1;32m    164\u001b[0m         \u001b[0;32melse\u001b[0m\u001b[0;34m:\u001b[0m\u001b[0;34m\u001b[0m\u001b[0;34m\u001b[0m\u001b[0m\n\u001b[1;32m    165\u001b[0m             \u001b[0;32mraise\u001b[0m \u001b[0;34m(\u001b[0m\u001b[0mexc\u001b[0m\u001b[0;34m)\u001b[0m\u001b[0;34m\u001b[0m\u001b[0;34m\u001b[0m\u001b[0m\n",
      "\u001b[0;32m/Library/Python/3.7/site-packages/librosa/core/audio.py\u001b[0m in \u001b[0;36m__audioread_load\u001b[0;34m(path, offset, duration, dtype)\u001b[0m\n\u001b[1;32m    185\u001b[0m \u001b[0;34m\u001b[0m\u001b[0m\n\u001b[1;32m    186\u001b[0m     \u001b[0my\u001b[0m \u001b[0;34m=\u001b[0m \u001b[0;34m[\u001b[0m\u001b[0;34m]\u001b[0m\u001b[0;34m\u001b[0m\u001b[0;34m\u001b[0m\u001b[0m\n\u001b[0;32m--> 187\u001b[0;31m     \u001b[0;32mwith\u001b[0m \u001b[0maudioread\u001b[0m\u001b[0;34m.\u001b[0m\u001b[0maudio_open\u001b[0m\u001b[0;34m(\u001b[0m\u001b[0mpath\u001b[0m\u001b[0;34m)\u001b[0m \u001b[0;32mas\u001b[0m \u001b[0minput_file\u001b[0m\u001b[0;34m:\u001b[0m\u001b[0;34m\u001b[0m\u001b[0;34m\u001b[0m\u001b[0m\n\u001b[0m\u001b[1;32m    188\u001b[0m         \u001b[0msr_native\u001b[0m \u001b[0;34m=\u001b[0m \u001b[0minput_file\u001b[0m\u001b[0;34m.\u001b[0m\u001b[0msamplerate\u001b[0m\u001b[0;34m\u001b[0m\u001b[0;34m\u001b[0m\u001b[0m\n\u001b[1;32m    189\u001b[0m         \u001b[0mn_channels\u001b[0m \u001b[0;34m=\u001b[0m \u001b[0minput_file\u001b[0m\u001b[0;34m.\u001b[0m\u001b[0mchannels\u001b[0m\u001b[0;34m\u001b[0m\u001b[0;34m\u001b[0m\u001b[0m\n",
      "\u001b[0;32m/Library/Python/3.7/site-packages/audioread/__init__.py\u001b[0m in \u001b[0;36maudio_open\u001b[0;34m(path, backends)\u001b[0m\n\u001b[1;32m    109\u001b[0m     \u001b[0;32mfor\u001b[0m \u001b[0mBackendClass\u001b[0m \u001b[0;32min\u001b[0m \u001b[0mbackends\u001b[0m\u001b[0;34m:\u001b[0m\u001b[0;34m\u001b[0m\u001b[0;34m\u001b[0m\u001b[0m\n\u001b[1;32m    110\u001b[0m         \u001b[0;32mtry\u001b[0m\u001b[0;34m:\u001b[0m\u001b[0;34m\u001b[0m\u001b[0;34m\u001b[0m\u001b[0m\n\u001b[0;32m--> 111\u001b[0;31m             \u001b[0;32mreturn\u001b[0m \u001b[0mBackendClass\u001b[0m\u001b[0;34m(\u001b[0m\u001b[0mpath\u001b[0m\u001b[0;34m)\u001b[0m\u001b[0;34m\u001b[0m\u001b[0;34m\u001b[0m\u001b[0m\n\u001b[0m\u001b[1;32m    112\u001b[0m         \u001b[0;32mexcept\u001b[0m \u001b[0mDecodeError\u001b[0m\u001b[0;34m:\u001b[0m\u001b[0;34m\u001b[0m\u001b[0;34m\u001b[0m\u001b[0m\n\u001b[1;32m    113\u001b[0m             \u001b[0;32mpass\u001b[0m\u001b[0;34m\u001b[0m\u001b[0;34m\u001b[0m\u001b[0m\n",
      "\u001b[0;32m/Library/Python/3.7/site-packages/audioread/rawread.py\u001b[0m in \u001b[0;36m__init__\u001b[0;34m(self, filename)\u001b[0m\n\u001b[1;32m     63\u001b[0m \u001b[0;34m\u001b[0m\u001b[0m\n\u001b[1;32m     64\u001b[0m         \u001b[0;32mtry\u001b[0m\u001b[0;34m:\u001b[0m\u001b[0;34m\u001b[0m\u001b[0;34m\u001b[0m\u001b[0m\n\u001b[0;32m---> 65\u001b[0;31m             \u001b[0mself\u001b[0m\u001b[0;34m.\u001b[0m\u001b[0m_file\u001b[0m \u001b[0;34m=\u001b[0m \u001b[0maifc\u001b[0m\u001b[0;34m.\u001b[0m\u001b[0mopen\u001b[0m\u001b[0;34m(\u001b[0m\u001b[0mself\u001b[0m\u001b[0;34m.\u001b[0m\u001b[0m_fh\u001b[0m\u001b[0;34m)\u001b[0m\u001b[0;34m\u001b[0m\u001b[0;34m\u001b[0m\u001b[0m\n\u001b[0m\u001b[1;32m     66\u001b[0m         \u001b[0;32mexcept\u001b[0m \u001b[0maifc\u001b[0m\u001b[0;34m.\u001b[0m\u001b[0mError\u001b[0m\u001b[0;34m:\u001b[0m\u001b[0;34m\u001b[0m\u001b[0;34m\u001b[0m\u001b[0m\n\u001b[1;32m     67\u001b[0m             \u001b[0;31m# Return to the beginning of the file to try the next reader.\u001b[0m\u001b[0;34m\u001b[0m\u001b[0;34m\u001b[0m\u001b[0;34m\u001b[0m\u001b[0m\n",
      "\u001b[0;32m/Applications/Xcode.app/Contents/Developer/Library/Frameworks/Python3.framework/Versions/3.7/lib/python3.7/aifc.py\u001b[0m in \u001b[0;36mopen\u001b[0;34m(f, mode)\u001b[0m\n\u001b[1;32m    915\u001b[0m             \u001b[0mmode\u001b[0m \u001b[0;34m=\u001b[0m \u001b[0;34m'rb'\u001b[0m\u001b[0;34m\u001b[0m\u001b[0;34m\u001b[0m\u001b[0m\n\u001b[1;32m    916\u001b[0m     \u001b[0;32mif\u001b[0m \u001b[0mmode\u001b[0m \u001b[0;32min\u001b[0m \u001b[0;34m(\u001b[0m\u001b[0;34m'r'\u001b[0m\u001b[0;34m,\u001b[0m \u001b[0;34m'rb'\u001b[0m\u001b[0;34m)\u001b[0m\u001b[0;34m:\u001b[0m\u001b[0;34m\u001b[0m\u001b[0;34m\u001b[0m\u001b[0m\n\u001b[0;32m--> 917\u001b[0;31m         \u001b[0;32mreturn\u001b[0m \u001b[0mAifc_read\u001b[0m\u001b[0;34m(\u001b[0m\u001b[0mf\u001b[0m\u001b[0;34m)\u001b[0m\u001b[0;34m\u001b[0m\u001b[0;34m\u001b[0m\u001b[0m\n\u001b[0m\u001b[1;32m    918\u001b[0m     \u001b[0;32melif\u001b[0m \u001b[0mmode\u001b[0m \u001b[0;32min\u001b[0m \u001b[0;34m(\u001b[0m\u001b[0;34m'w'\u001b[0m\u001b[0;34m,\u001b[0m \u001b[0;34m'wb'\u001b[0m\u001b[0;34m)\u001b[0m\u001b[0;34m:\u001b[0m\u001b[0;34m\u001b[0m\u001b[0;34m\u001b[0m\u001b[0m\n\u001b[1;32m    919\u001b[0m         \u001b[0;32mreturn\u001b[0m \u001b[0mAifc_write\u001b[0m\u001b[0;34m(\u001b[0m\u001b[0mf\u001b[0m\u001b[0;34m)\u001b[0m\u001b[0;34m\u001b[0m\u001b[0;34m\u001b[0m\u001b[0m\n",
      "\u001b[0;32m/Applications/Xcode.app/Contents/Developer/Library/Frameworks/Python3.framework/Versions/3.7/lib/python3.7/aifc.py\u001b[0m in \u001b[0;36m__init__\u001b[0;34m(self, f)\u001b[0m\n\u001b[1;32m    356\u001b[0m         \u001b[0;32melse\u001b[0m\u001b[0;34m:\u001b[0m\u001b[0;34m\u001b[0m\u001b[0;34m\u001b[0m\u001b[0m\n\u001b[1;32m    357\u001b[0m             \u001b[0;31m# assume it is an open file object already\u001b[0m\u001b[0;34m\u001b[0m\u001b[0;34m\u001b[0m\u001b[0;34m\u001b[0m\u001b[0m\n\u001b[0;32m--> 358\u001b[0;31m             \u001b[0mself\u001b[0m\u001b[0;34m.\u001b[0m\u001b[0minitfp\u001b[0m\u001b[0;34m(\u001b[0m\u001b[0mf\u001b[0m\u001b[0;34m)\u001b[0m\u001b[0;34m\u001b[0m\u001b[0;34m\u001b[0m\u001b[0m\n\u001b[0m\u001b[1;32m    359\u001b[0m \u001b[0;34m\u001b[0m\u001b[0m\n\u001b[1;32m    360\u001b[0m     \u001b[0;32mdef\u001b[0m \u001b[0m__enter__\u001b[0m\u001b[0;34m(\u001b[0m\u001b[0mself\u001b[0m\u001b[0;34m)\u001b[0m\u001b[0;34m:\u001b[0m\u001b[0;34m\u001b[0m\u001b[0;34m\u001b[0m\u001b[0m\n",
      "\u001b[0;32m/Applications/Xcode.app/Contents/Developer/Library/Frameworks/Python3.framework/Versions/3.7/lib/python3.7/aifc.py\u001b[0m in \u001b[0;36minitfp\u001b[0;34m(self, file)\u001b[0m\n\u001b[1;32m    312\u001b[0m         \u001b[0mself\u001b[0m\u001b[0;34m.\u001b[0m\u001b[0m_soundpos\u001b[0m \u001b[0;34m=\u001b[0m \u001b[0;36m0\u001b[0m\u001b[0;34m\u001b[0m\u001b[0;34m\u001b[0m\u001b[0m\n\u001b[1;32m    313\u001b[0m         \u001b[0mself\u001b[0m\u001b[0;34m.\u001b[0m\u001b[0m_file\u001b[0m \u001b[0;34m=\u001b[0m \u001b[0mfile\u001b[0m\u001b[0;34m\u001b[0m\u001b[0;34m\u001b[0m\u001b[0m\n\u001b[0;32m--> 314\u001b[0;31m         \u001b[0mchunk\u001b[0m \u001b[0;34m=\u001b[0m \u001b[0mChunk\u001b[0m\u001b[0;34m(\u001b[0m\u001b[0mfile\u001b[0m\u001b[0;34m)\u001b[0m\u001b[0;34m\u001b[0m\u001b[0;34m\u001b[0m\u001b[0m\n\u001b[0m\u001b[1;32m    315\u001b[0m         \u001b[0;32mif\u001b[0m \u001b[0mchunk\u001b[0m\u001b[0;34m.\u001b[0m\u001b[0mgetname\u001b[0m\u001b[0;34m(\u001b[0m\u001b[0;34m)\u001b[0m \u001b[0;34m!=\u001b[0m \u001b[0;34mb'FORM'\u001b[0m\u001b[0;34m:\u001b[0m\u001b[0;34m\u001b[0m\u001b[0;34m\u001b[0m\u001b[0m\n\u001b[1;32m    316\u001b[0m             \u001b[0;32mraise\u001b[0m \u001b[0mError\u001b[0m\u001b[0;34m(\u001b[0m\u001b[0;34m'file does not start with FORM id'\u001b[0m\u001b[0;34m)\u001b[0m\u001b[0;34m\u001b[0m\u001b[0;34m\u001b[0m\u001b[0m\n",
      "\u001b[0;32m/Applications/Xcode.app/Contents/Developer/Library/Frameworks/Python3.framework/Versions/3.7/lib/python3.7/chunk.py\u001b[0m in \u001b[0;36m__init__\u001b[0;34m(self, file, align, bigendian, inclheader)\u001b[0m\n\u001b[1;32m     61\u001b[0m         \u001b[0mself\u001b[0m\u001b[0;34m.\u001b[0m\u001b[0mchunkname\u001b[0m \u001b[0;34m=\u001b[0m \u001b[0mfile\u001b[0m\u001b[0;34m.\u001b[0m\u001b[0mread\u001b[0m\u001b[0;34m(\u001b[0m\u001b[0;36m4\u001b[0m\u001b[0;34m)\u001b[0m\u001b[0;34m\u001b[0m\u001b[0;34m\u001b[0m\u001b[0m\n\u001b[1;32m     62\u001b[0m         \u001b[0;32mif\u001b[0m \u001b[0mlen\u001b[0m\u001b[0;34m(\u001b[0m\u001b[0mself\u001b[0m\u001b[0;34m.\u001b[0m\u001b[0mchunkname\u001b[0m\u001b[0;34m)\u001b[0m \u001b[0;34m<\u001b[0m \u001b[0;36m4\u001b[0m\u001b[0;34m:\u001b[0m\u001b[0;34m\u001b[0m\u001b[0;34m\u001b[0m\u001b[0m\n\u001b[0;32m---> 63\u001b[0;31m             \u001b[0;32mraise\u001b[0m \u001b[0mEOFError\u001b[0m\u001b[0;34m\u001b[0m\u001b[0;34m\u001b[0m\u001b[0m\n\u001b[0m\u001b[1;32m     64\u001b[0m         \u001b[0;32mtry\u001b[0m\u001b[0;34m:\u001b[0m\u001b[0;34m\u001b[0m\u001b[0;34m\u001b[0m\u001b[0m\n\u001b[1;32m     65\u001b[0m             \u001b[0mself\u001b[0m\u001b[0;34m.\u001b[0m\u001b[0mchunksize\u001b[0m \u001b[0;34m=\u001b[0m \u001b[0mstruct\u001b[0m\u001b[0;34m.\u001b[0m\u001b[0munpack_from\u001b[0m\u001b[0;34m(\u001b[0m\u001b[0mstrflag\u001b[0m\u001b[0;34m+\u001b[0m\u001b[0;34m'L'\u001b[0m\u001b[0;34m,\u001b[0m \u001b[0mfile\u001b[0m\u001b[0;34m.\u001b[0m\u001b[0mread\u001b[0m\u001b[0;34m(\u001b[0m\u001b[0;36m4\u001b[0m\u001b[0;34m)\u001b[0m\u001b[0;34m)\u001b[0m\u001b[0;34m[\u001b[0m\u001b[0;36m0\u001b[0m\u001b[0;34m]\u001b[0m\u001b[0;34m\u001b[0m\u001b[0;34m\u001b[0m\u001b[0m\n",
      "\u001b[0;31mEOFError\u001b[0m: "
     ]
    }
   ],
   "source": [
    "pad_audio(df)"
   ]
  },
  {
   "cell_type": "code",
   "execution_count": 10,
   "metadata": {},
   "outputs": [
    {
     "name": "stderr",
     "output_type": "stream",
     "text": [
      "13150it [14:35, 15.02it/s]\n"
     ]
    }
   ],
   "source": [
    "def extract_mfcc(df):\n",
    "    \n",
    "    data = {\n",
    "            \"source\": [],\n",
    "            \"labels\": [],\n",
    "            \"int_labels\":[],\n",
    "            \"mfcc\": []\n",
    "        }\n",
    "\n",
    "    for index, row in tqdm(df.iterrows()):\n",
    "\n",
    "        SAMPLE_RATE = 22050\n",
    "        y, sr = librosa.load(row.path)\n",
    "\n",
    "        TRACK_DURATION = librosa.get_duration(y=y, sr=SAMPLE_RATE)\n",
    "        SAMPLES_PER_TRACK = SAMPLE_RATE * TRACK_DURATION\n",
    "\n",
    "\n",
    "        samples_per_segment = SAMPLE_RATE\n",
    "        num_mfcc_vectors_per_segment = math.ceil(samples_per_segment / 512)\n",
    "        num_segments = int(SAMPLES_PER_TRACK/samples_per_segment)\n",
    "\n",
    "        for d in range(num_segments):\n",
    "\n",
    "            # calculate start and finish sample for current segment\n",
    "            start = samples_per_segment * d\n",
    "            finish = start + samples_per_segment\n",
    "\n",
    "            # extract mfcc\n",
    "            mfcc = librosa.feature.mfcc(y[start:finish], SAMPLE_RATE, n_mfcc=40, n_fft=2048, hop_length=512)\n",
    "            mfcc = mfcc.T\n",
    "\n",
    "            # store only mfcc feature with expected number of vectors\n",
    "            if len(mfcc) == num_mfcc_vectors_per_segment:\n",
    "                data['source'].append(row.source)\n",
    "                data['labels'].append(row.labels)\n",
    "                data['int_labels'].append(row.int_label)\n",
    "                data[\"mfcc\"].append(mfcc.tolist())\n",
    "    return data\n"
   ]
  },
  {
   "cell_type": "code",
   "execution_count": null,
   "metadata": {},
   "outputs": [],
   "source": [
    "def scale_minmax(X, min=0.0, max=1.0):\n",
    "    X_std = (X - X.min()) / (X.max() - X.min())\n",
    "    X_scaled = X_std * (max - min) + min\n",
    "    return X_scaled\n",
    "\n",
    "def extract_melspec(df):\n",
    "    \n",
    "    for emotion in tqdm(df['emotion'].unique()):\n",
    "        \n",
    "        temp_df = df.loc[df['emotion']==emotion]\n",
    "    \n",
    "        for index, row in tqdm(temp_df.iterrows()):\n",
    "\n",
    "            SAMPLE_RATE = 22050\n",
    "            y, sr = librosa.load(row.path)\n",
    "\n",
    "            mels = librosa.feature.melspectrogram(y=y, sr=sr, n_mels=128)\n",
    "\n",
    "\n",
    "    "
   ]
  },
  {
   "cell_type": "code",
   "execution_count": 11,
   "metadata": {},
   "outputs": [],
   "source": [
    "data = extract_mfcc(df)\n",
    "\n",
    "with open('Data/MFCC/mfcc.json', \"w\") as fp:\n",
    "    json.dump(data, fp, indent=4)"
   ]
  },
  {
   "cell_type": "code",
   "execution_count": 12,
   "metadata": {},
   "outputs": [],
   "source": [
    "X = np.array(data[\"mfcc\"])\n",
    "y = np.array(data[\"int_labels\"])"
   ]
  },
  {
   "cell_type": "code",
   "execution_count": 13,
   "metadata": {},
   "outputs": [],
   "source": [
    "X_train, X_test, y_train, y_test = train_test_split(X, y, test_size=0.3)\n",
    "\n",
    "X_train = X_train[..., np.newaxis]\n",
    "X_test = X_test[..., np.newaxis]"
   ]
  },
  {
   "cell_type": "code",
   "execution_count": 14,
   "metadata": {},
   "outputs": [
    {
     "name": "stdout",
     "output_type": "stream",
     "text": [
      "Model: \"sequential\"\n",
      "_________________________________________________________________\n",
      "Layer (type)                 Output Shape              Param #   \n",
      "=================================================================\n",
      "conv2d (Conv2D)              (None, 42, 38, 32)        320       \n",
      "_________________________________________________________________\n",
      "max_pooling2d (MaxPooling2D) (None, 21, 19, 32)        0         \n",
      "_________________________________________________________________\n",
      "batch_normalization (BatchNo (None, 21, 19, 32)        128       \n",
      "_________________________________________________________________\n",
      "conv2d_1 (Conv2D)            (None, 19, 17, 32)        9248      \n",
      "_________________________________________________________________\n",
      "max_pooling2d_1 (MaxPooling2 (None, 10, 9, 32)         0         \n",
      "_________________________________________________________________\n",
      "batch_normalization_1 (Batch (None, 10, 9, 32)         128       \n",
      "_________________________________________________________________\n",
      "conv2d_2 (Conv2D)            (None, 9, 8, 32)          4128      \n",
      "_________________________________________________________________\n",
      "max_pooling2d_2 (MaxPooling2 (None, 5, 4, 32)          0         \n",
      "_________________________________________________________________\n",
      "batch_normalization_2 (Batch (None, 5, 4, 32)          128       \n",
      "_________________________________________________________________\n",
      "conv2d_3 (Conv2D)            (None, 5, 4, 32)          1056      \n",
      "_________________________________________________________________\n",
      "max_pooling2d_3 (MaxPooling2 (None, 3, 2, 32)          0         \n",
      "_________________________________________________________________\n",
      "batch_normalization_3 (Batch (None, 3, 2, 32)          128       \n",
      "_________________________________________________________________\n",
      "flatten (Flatten)            (None, 192)               0         \n",
      "_________________________________________________________________\n",
      "dense (Dense)                (None, 64)                12352     \n",
      "_________________________________________________________________\n",
      "dropout (Dropout)            (None, 64)                0         \n",
      "_________________________________________________________________\n",
      "dense_1 (Dense)              (None, 7)                 455       \n",
      "=================================================================\n",
      "Total params: 28,071\n",
      "Trainable params: 27,815\n",
      "Non-trainable params: 256\n",
      "_________________________________________________________________\n"
     ]
    }
   ],
   "source": [
    "model = keras.Sequential()\n",
    "\n",
    "# 1st conv layer\n",
    "model.add(keras.layers.Conv2D(32, (3, 3), activation='relu', input_shape=(X_train.shape[1], X_train.shape[2], 1)))\n",
    "model.add(keras.layers.MaxPooling2D((3, 3), strides=(2, 2), padding='same'))\n",
    "model.add(keras.layers.BatchNormalization())\n",
    "\n",
    "# 2nd conv layer\n",
    "model.add(keras.layers.Conv2D(32, (3, 3), activation='relu'))\n",
    "model.add(keras.layers.MaxPooling2D((3, 3), strides=(2, 2), padding='same'))\n",
    "model.add(keras.layers.BatchNormalization())\n",
    "\n",
    "# 3rd conv layer\n",
    "model.add(keras.layers.Conv2D(32, (2, 2), activation='relu'))\n",
    "model.add(keras.layers.MaxPooling2D((2, 2), strides=(2, 2), padding='same'))\n",
    "model.add(keras.layers.BatchNormalization())\n",
    "\n",
    "# 4th conv layer\n",
    "model.add(keras.layers.Conv2D(32, (1, 1), activation='relu'))\n",
    "model.add(keras.layers.MaxPooling2D((2, 2), strides=(2, 2), padding='same'))\n",
    "model.add(keras.layers.BatchNormalization())\n",
    "\n",
    "# flatten output and feed it into dense layer\n",
    "model.add(keras.layers.Flatten())\n",
    "model.add(keras.layers.Dense(64, activation='relu'))\n",
    "model.add(keras.layers.Dropout(0.3))\n",
    "\n",
    "# output layer\n",
    "model.add(keras.layers.Dense(7, activation='softmax'))\n",
    "\n",
    "optimiser = keras.optimizers.Adam(learning_rate=1e-4)\n",
    "model.compile(optimizer=optimiser,\n",
    "              loss='sparse_categorical_crossentropy',\n",
    "              metrics=['accuracy'])\n",
    "\n",
    "model.summary()"
   ]
  },
  {
   "cell_type": "code",
   "execution_count": 15,
   "metadata": {},
   "outputs": [
    {
     "name": "stdout",
     "output_type": "stream",
     "text": [
      "Epoch 1/200\n",
      "658/658 [==============================] - 12s 19ms/step - loss: 1.8994 - accuracy: 0.2461 - val_loss: 1.6380 - val_accuracy: 0.3543\n",
      "Epoch 2/200\n",
      "658/658 [==============================] - 13s 20ms/step - loss: 1.6295 - accuracy: 0.3434 - val_loss: 1.5198 - val_accuracy: 0.3979\n",
      "Epoch 3/200\n",
      "658/658 [==============================] - 14s 21ms/step - loss: 1.5345 - accuracy: 0.3842 - val_loss: 1.4595 - val_accuracy: 0.4230\n",
      "Epoch 4/200\n",
      "658/658 [==============================] - 15s 23ms/step - loss: 1.4832 - accuracy: 0.4028 - val_loss: 1.4157 - val_accuracy: 0.4342\n",
      "Epoch 5/200\n",
      "658/658 [==============================] - 15s 23ms/step - loss: 1.4386 - accuracy: 0.4263 - val_loss: 1.3876 - val_accuracy: 0.4475\n",
      "Epoch 6/200\n",
      "658/658 [==============================] - 16s 24ms/step - loss: 1.4092 - accuracy: 0.4392 - val_loss: 1.3694 - val_accuracy: 0.4533\n",
      "Epoch 7/200\n",
      "658/658 [==============================] - 17s 26ms/step - loss: 1.3760 - accuracy: 0.4502 - val_loss: 1.3503 - val_accuracy: 0.4630\n",
      "Epoch 8/200\n",
      "658/658 [==============================] - 18s 27ms/step - loss: 1.3561 - accuracy: 0.4614 - val_loss: 1.3348 - val_accuracy: 0.4813\n",
      "Epoch 9/200\n",
      "658/658 [==============================] - 18s 28ms/step - loss: 1.3351 - accuracy: 0.4711 - val_loss: 1.3124 - val_accuracy: 0.4865\n",
      "Epoch 10/200\n",
      "658/658 [==============================] - 18s 28ms/step - loss: 1.3166 - accuracy: 0.4808 - val_loss: 1.3106 - val_accuracy: 0.4851\n",
      "Epoch 11/200\n",
      "658/658 [==============================] - 19s 28ms/step - loss: 1.2978 - accuracy: 0.4905 - val_loss: 1.2999 - val_accuracy: 0.4881\n",
      "Epoch 12/200\n",
      "658/658 [==============================] - 18s 28ms/step - loss: 1.2841 - accuracy: 0.4922 - val_loss: 1.2890 - val_accuracy: 0.4968\n",
      "Epoch 13/200\n",
      "658/658 [==============================] - 18s 28ms/step - loss: 1.2657 - accuracy: 0.5043 - val_loss: 1.2953 - val_accuracy: 0.4862\n",
      "Epoch 14/200\n",
      "658/658 [==============================] - 19s 29ms/step - loss: 1.2524 - accuracy: 0.5090 - val_loss: 1.2692 - val_accuracy: 0.5073\n",
      "Epoch 15/200\n",
      "658/658 [==============================] - 18s 28ms/step - loss: 1.2404 - accuracy: 0.5148 - val_loss: 1.2728 - val_accuracy: 0.5058\n",
      "Epoch 16/200\n",
      "658/658 [==============================] - 19s 28ms/step - loss: 1.2269 - accuracy: 0.5212 - val_loss: 1.2553 - val_accuracy: 0.5116\n",
      "Epoch 17/200\n",
      "658/658 [==============================] - 19s 28ms/step - loss: 1.2194 - accuracy: 0.5244 - val_loss: 1.2523 - val_accuracy: 0.5093\n",
      "Epoch 18/200\n",
      "658/658 [==============================] - 19s 28ms/step - loss: 1.2080 - accuracy: 0.5308 - val_loss: 1.2543 - val_accuracy: 0.5133\n",
      "Epoch 19/200\n",
      "658/658 [==============================] - 19s 29ms/step - loss: 1.1978 - accuracy: 0.5372 - val_loss: 1.2724 - val_accuracy: 0.5051\n",
      "Epoch 20/200\n",
      "658/658 [==============================] - 19s 29ms/step - loss: 1.1816 - accuracy: 0.5410 - val_loss: 1.2503 - val_accuracy: 0.5094\n",
      "Epoch 21/200\n",
      "658/658 [==============================] - 19s 29ms/step - loss: 1.1717 - accuracy: 0.5430 - val_loss: 1.2596 - val_accuracy: 0.5132\n",
      "Epoch 22/200\n",
      "658/658 [==============================] - 19s 29ms/step - loss: 1.1672 - accuracy: 0.5445 - val_loss: 1.2358 - val_accuracy: 0.5236\n",
      "Epoch 23/200\n",
      "658/658 [==============================] - 19s 29ms/step - loss: 1.1595 - accuracy: 0.5514 - val_loss: 1.2343 - val_accuracy: 0.5227\n",
      "Epoch 24/200\n",
      "658/658 [==============================] - 19s 29ms/step - loss: 1.1540 - accuracy: 0.5516 - val_loss: 1.2321 - val_accuracy: 0.5233\n",
      "Epoch 25/200\n",
      "658/658 [==============================] - 19s 29ms/step - loss: 1.1441 - accuracy: 0.5580 - val_loss: 1.2452 - val_accuracy: 0.5084\n",
      "Epoch 26/200\n",
      "658/658 [==============================] - 19s 28ms/step - loss: 1.1356 - accuracy: 0.5626 - val_loss: 1.2292 - val_accuracy: 0.5251\n",
      "Epoch 27/200\n",
      "658/658 [==============================] - 18s 28ms/step - loss: 1.1247 - accuracy: 0.5670 - val_loss: 1.2410 - val_accuracy: 0.5175\n",
      "Epoch 28/200\n",
      "658/658 [==============================] - 18s 28ms/step - loss: 1.1217 - accuracy: 0.5680 - val_loss: 1.2336 - val_accuracy: 0.5246\n",
      "Epoch 29/200\n",
      "658/658 [==============================] - 18s 28ms/step - loss: 1.1105 - accuracy: 0.5696 - val_loss: 1.2309 - val_accuracy: 0.5241\n",
      "Epoch 30/200\n",
      "658/658 [==============================] - 18s 28ms/step - loss: 1.1080 - accuracy: 0.5737 - val_loss: 1.2245 - val_accuracy: 0.5257\n",
      "Epoch 31/200\n",
      "658/658 [==============================] - 19s 29ms/step - loss: 1.1002 - accuracy: 0.5741 - val_loss: 1.2267 - val_accuracy: 0.5277\n",
      "Epoch 32/200\n",
      "658/658 [==============================] - 19s 29ms/step - loss: 1.0948 - accuracy: 0.5781 - val_loss: 1.2202 - val_accuracy: 0.5256\n",
      "Epoch 33/200\n",
      "658/658 [==============================] - 19s 29ms/step - loss: 1.0858 - accuracy: 0.5835 - val_loss: 1.2415 - val_accuracy: 0.5172\n",
      "Epoch 34/200\n",
      "658/658 [==============================] - 20s 30ms/step - loss: 1.0772 - accuracy: 0.5869 - val_loss: 1.2219 - val_accuracy: 0.5298\n",
      "Epoch 35/200\n",
      "658/658 [==============================] - 19s 28ms/step - loss: 1.0767 - accuracy: 0.5887 - val_loss: 1.2205 - val_accuracy: 0.5295\n",
      "Epoch 36/200\n",
      "658/658 [==============================] - 19s 28ms/step - loss: 1.0681 - accuracy: 0.5893 - val_loss: 1.2512 - val_accuracy: 0.5109\n",
      "Epoch 37/200\n",
      "658/658 [==============================] - 19s 29ms/step - loss: 1.0629 - accuracy: 0.5895 - val_loss: 1.2366 - val_accuracy: 0.5200\n",
      "Epoch 38/200\n",
      "658/658 [==============================] - 19s 29ms/step - loss: 1.0550 - accuracy: 0.5945 - val_loss: 1.2398 - val_accuracy: 0.5119\n",
      "Epoch 39/200\n",
      "658/658 [==============================] - 19s 29ms/step - loss: 1.0493 - accuracy: 0.5938 - val_loss: 1.2315 - val_accuracy: 0.5242\n",
      "Epoch 40/200\n",
      "658/658 [==============================] - 19s 29ms/step - loss: 1.0431 - accuracy: 0.6006 - val_loss: 1.2488 - val_accuracy: 0.5212\n",
      "Epoch 41/200\n",
      "658/658 [==============================] - 18s 28ms/step - loss: 1.0440 - accuracy: 0.5979 - val_loss: 1.2377 - val_accuracy: 0.5232\n",
      "Epoch 42/200\n",
      "658/658 [==============================] - 19s 29ms/step - loss: 1.0370 - accuracy: 0.5998 - val_loss: 1.2315 - val_accuracy: 0.5256\n",
      "Epoch 43/200\n",
      "658/658 [==============================] - 19s 29ms/step - loss: 1.0264 - accuracy: 0.6066 - val_loss: 1.2405 - val_accuracy: 0.5224\n",
      "Epoch 44/200\n",
      "658/658 [==============================] - 19s 29ms/step - loss: 1.0203 - accuracy: 0.6110 - val_loss: 1.2406 - val_accuracy: 0.5233\n",
      "Epoch 45/200\n",
      "658/658 [==============================] - 20s 30ms/step - loss: 1.0176 - accuracy: 0.6103 - val_loss: 1.2324 - val_accuracy: 0.5286\n",
      "Epoch 46/200\n",
      "658/658 [==============================] - 20s 30ms/step - loss: 1.0149 - accuracy: 0.6132 - val_loss: 1.2385 - val_accuracy: 0.5265\n",
      "Epoch 47/200\n",
      "658/658 [==============================] - 18s 28ms/step - loss: 1.0085 - accuracy: 0.6135 - val_loss: 1.2455 - val_accuracy: 0.5222\n",
      "Epoch 48/200\n",
      "658/658 [==============================] - 19s 28ms/step - loss: 1.0023 - accuracy: 0.6161 - val_loss: 1.2439 - val_accuracy: 0.5250\n",
      "Epoch 49/200\n",
      "658/658 [==============================] - 19s 29ms/step - loss: 1.0010 - accuracy: 0.6161 - val_loss: 1.2496 - val_accuracy: 0.5293\n",
      "Epoch 50/200\n",
      "658/658 [==============================] - 19s 29ms/step - loss: 0.9974 - accuracy: 0.6169 - val_loss: 1.2364 - val_accuracy: 0.5312\n",
      "Epoch 51/200\n",
      "658/658 [==============================] - 18s 28ms/step - loss: 0.9926 - accuracy: 0.6155 - val_loss: 1.2409 - val_accuracy: 0.5286\n",
      "Epoch 52/200\n",
      "658/658 [==============================] - 18s 28ms/step - loss: 0.9911 - accuracy: 0.6241 - val_loss: 1.2378 - val_accuracy: 0.5289\n",
      "Epoch 53/200\n",
      "658/658 [==============================] - 19s 28ms/step - loss: 0.9793 - accuracy: 0.6254 - val_loss: 1.2487 - val_accuracy: 0.5340\n",
      "Epoch 54/200\n",
      "658/658 [==============================] - 19s 29ms/step - loss: 0.9802 - accuracy: 0.6264 - val_loss: 1.2576 - val_accuracy: 0.5303\n",
      "Epoch 55/200\n",
      "658/658 [==============================] - 17s 27ms/step - loss: 0.9738 - accuracy: 0.6265 - val_loss: 1.2414 - val_accuracy: 0.5304\n",
      "Epoch 56/200\n",
      "658/658 [==============================] - 17s 26ms/step - loss: 0.9636 - accuracy: 0.6355 - val_loss: 1.2571 - val_accuracy: 0.5288\n",
      "Epoch 57/200\n",
      "658/658 [==============================] - 18s 27ms/step - loss: 0.9618 - accuracy: 0.6312 - val_loss: 1.2576 - val_accuracy: 0.5194\n",
      "Epoch 58/200\n",
      "658/658 [==============================] - 19s 29ms/step - loss: 0.9599 - accuracy: 0.6306 - val_loss: 1.2608 - val_accuracy: 0.5205\n",
      "Epoch 59/200\n",
      "658/658 [==============================] - 19s 30ms/step - loss: 0.9588 - accuracy: 0.6301 - val_loss: 1.2652 - val_accuracy: 0.5235\n",
      "Epoch 60/200\n",
      "658/658 [==============================] - 19s 29ms/step - loss: 0.9592 - accuracy: 0.6376 - val_loss: 1.2512 - val_accuracy: 0.5303\n",
      "Epoch 61/200\n",
      "658/658 [==============================] - 19s 29ms/step - loss: 0.9488 - accuracy: 0.6393 - val_loss: 1.2747 - val_accuracy: 0.5201\n",
      "Epoch 62/200\n",
      "658/658 [==============================] - 19s 29ms/step - loss: 0.9464 - accuracy: 0.6392 - val_loss: 1.2650 - val_accuracy: 0.5263\n",
      "Epoch 63/200\n",
      "658/658 [==============================] - 19s 29ms/step - loss: 0.9408 - accuracy: 0.6431 - val_loss: 1.2571 - val_accuracy: 0.5286\n",
      "Epoch 64/200\n",
      "658/658 [==============================] - 20s 30ms/step - loss: 0.9389 - accuracy: 0.6431 - val_loss: 1.2651 - val_accuracy: 0.5238\n",
      "Epoch 65/200\n",
      "658/658 [==============================] - 19s 30ms/step - loss: 0.9364 - accuracy: 0.6449 - val_loss: 1.2687 - val_accuracy: 0.5264\n",
      "Epoch 66/200\n",
      "658/658 [==============================] - 19s 29ms/step - loss: 0.9242 - accuracy: 0.6491 - val_loss: 1.2717 - val_accuracy: 0.5250\n",
      "Epoch 67/200\n",
      "658/658 [==============================] - 18s 28ms/step - loss: 0.9277 - accuracy: 0.6482 - val_loss: 1.2741 - val_accuracy: 0.5225\n",
      "Epoch 68/200\n",
      "658/658 [==============================] - 19s 28ms/step - loss: 0.9298 - accuracy: 0.6460 - val_loss: 1.2704 - val_accuracy: 0.5303\n",
      "Epoch 69/200\n",
      "658/658 [==============================] - 19s 29ms/step - loss: 0.9266 - accuracy: 0.6463 - val_loss: 1.2596 - val_accuracy: 0.5258\n",
      "Epoch 70/200\n",
      "658/658 [==============================] - 19s 29ms/step - loss: 0.9119 - accuracy: 0.6554 - val_loss: 1.2888 - val_accuracy: 0.5221\n",
      "Epoch 71/200\n",
      "658/658 [==============================] - 19s 29ms/step - loss: 0.9085 - accuracy: 0.6542 - val_loss: 1.2939 - val_accuracy: 0.5187\n",
      "Epoch 72/200\n",
      "658/658 [==============================] - 19s 29ms/step - loss: 0.9072 - accuracy: 0.6529 - val_loss: 1.2889 - val_accuracy: 0.5228\n",
      "Epoch 73/200\n",
      "658/658 [==============================] - 19s 29ms/step - loss: 0.9062 - accuracy: 0.6545 - val_loss: 1.2797 - val_accuracy: 0.5214\n",
      "Epoch 74/200\n",
      "658/658 [==============================] - 19s 29ms/step - loss: 0.9000 - accuracy: 0.6561 - val_loss: 1.3042 - val_accuracy: 0.5216\n",
      "Epoch 75/200\n",
      "658/658 [==============================] - 18s 28ms/step - loss: 0.8965 - accuracy: 0.6584 - val_loss: 1.2975 - val_accuracy: 0.5157\n",
      "Epoch 76/200\n",
      "658/658 [==============================] - 18s 27ms/step - loss: 0.8944 - accuracy: 0.6579 - val_loss: 1.2958 - val_accuracy: 0.5271\n",
      "Epoch 77/200\n",
      "658/658 [==============================] - 18s 27ms/step - loss: 0.8899 - accuracy: 0.6590 - val_loss: 1.2898 - val_accuracy: 0.5250\n",
      "Epoch 78/200\n",
      "658/658 [==============================] - 18s 27ms/step - loss: 0.8905 - accuracy: 0.6591 - val_loss: 1.2858 - val_accuracy: 0.5273\n",
      "Epoch 79/200\n",
      "658/658 [==============================] - 19s 29ms/step - loss: 0.8892 - accuracy: 0.6616 - val_loss: 1.2840 - val_accuracy: 0.5252\n",
      "Epoch 80/200\n",
      "658/658 [==============================] - 19s 29ms/step - loss: 0.8837 - accuracy: 0.6626 - val_loss: 1.3138 - val_accuracy: 0.5222\n",
      "Epoch 81/200\n",
      "658/658 [==============================] - 18s 28ms/step - loss: 0.8764 - accuracy: 0.6650 - val_loss: 1.3063 - val_accuracy: 0.5267\n",
      "Epoch 82/200\n",
      "658/658 [==============================] - 18s 28ms/step - loss: 0.8716 - accuracy: 0.6681 - val_loss: 1.3066 - val_accuracy: 0.5256\n",
      "Epoch 83/200\n",
      "658/658 [==============================] - 18s 28ms/step - loss: 0.8685 - accuracy: 0.6703 - val_loss: 1.3301 - val_accuracy: 0.5128\n",
      "Epoch 84/200\n",
      "658/658 [==============================] - 18s 27ms/step - loss: 0.8709 - accuracy: 0.6695 - val_loss: 1.3158 - val_accuracy: 0.5282\n",
      "Epoch 85/200\n",
      "658/658 [==============================] - 18s 27ms/step - loss: 0.8635 - accuracy: 0.6660 - val_loss: 1.3112 - val_accuracy: 0.5217\n",
      "Epoch 86/200\n",
      "658/658 [==============================] - 17s 27ms/step - loss: 0.8647 - accuracy: 0.6692 - val_loss: 1.3390 - val_accuracy: 0.5196\n",
      "Epoch 87/200\n",
      "658/658 [==============================] - 18s 27ms/step - loss: 0.8622 - accuracy: 0.6719 - val_loss: 1.3439 - val_accuracy: 0.5140\n",
      "Epoch 88/200\n",
      "658/658 [==============================] - 18s 27ms/step - loss: 0.8558 - accuracy: 0.6731 - val_loss: 1.3369 - val_accuracy: 0.5197\n",
      "Epoch 89/200\n",
      "658/658 [==============================] - 18s 27ms/step - loss: 0.8528 - accuracy: 0.6751 - val_loss: 1.3193 - val_accuracy: 0.5224\n",
      "Epoch 90/200\n",
      "658/658 [==============================] - 17s 25ms/step - loss: 0.8524 - accuracy: 0.6754 - val_loss: 1.3335 - val_accuracy: 0.5194\n",
      "Epoch 91/200\n",
      "658/658 [==============================] - 17s 26ms/step - loss: 0.8460 - accuracy: 0.6751 - val_loss: 1.3347 - val_accuracy: 0.5197\n",
      "Epoch 92/200\n",
      "658/658 [==============================] - 17s 26ms/step - loss: 0.8475 - accuracy: 0.6764 - val_loss: 1.3462 - val_accuracy: 0.5193\n",
      "Epoch 93/200\n",
      "658/658 [==============================] - 18s 27ms/step - loss: 0.8415 - accuracy: 0.6801 - val_loss: 1.3370 - val_accuracy: 0.5220\n",
      "Epoch 94/200\n",
      "658/658 [==============================] - 18s 27ms/step - loss: 0.8333 - accuracy: 0.6810 - val_loss: 1.3253 - val_accuracy: 0.5236\n",
      "Epoch 95/200\n",
      "658/658 [==============================] - 18s 28ms/step - loss: 0.8353 - accuracy: 0.6788 - val_loss: 1.3369 - val_accuracy: 0.5245\n",
      "Epoch 96/200\n",
      "658/658 [==============================] - 19s 28ms/step - loss: 0.8284 - accuracy: 0.6832 - val_loss: 1.3605 - val_accuracy: 0.5198\n",
      "Epoch 97/200\n",
      "658/658 [==============================] - 18s 27ms/step - loss: 0.8384 - accuracy: 0.6791 - val_loss: 1.3413 - val_accuracy: 0.5202\n",
      "Epoch 98/200\n",
      "658/658 [==============================] - 17s 26ms/step - loss: 0.8296 - accuracy: 0.6834 - val_loss: 1.3795 - val_accuracy: 0.5102\n",
      "Epoch 99/200\n",
      "658/658 [==============================] - 17s 27ms/step - loss: 0.8278 - accuracy: 0.6843 - val_loss: 1.3524 - val_accuracy: 0.5160\n",
      "Epoch 100/200\n",
      "658/658 [==============================] - 18s 27ms/step - loss: 0.8221 - accuracy: 0.6883 - val_loss: 1.3855 - val_accuracy: 0.5257\n",
      "Epoch 101/200\n",
      "658/658 [==============================] - 18s 28ms/step - loss: 0.8213 - accuracy: 0.6900 - val_loss: 1.3498 - val_accuracy: 0.5212\n",
      "Epoch 102/200\n",
      "658/658 [==============================] - 18s 27ms/step - loss: 0.8189 - accuracy: 0.6883 - val_loss: 1.3653 - val_accuracy: 0.5227\n",
      "Epoch 103/200\n",
      "658/658 [==============================] - 18s 27ms/step - loss: 0.8185 - accuracy: 0.6842 - val_loss: 1.3830 - val_accuracy: 0.5144\n",
      "Epoch 104/200\n",
      "658/658 [==============================] - 19s 29ms/step - loss: 0.8146 - accuracy: 0.6859 - val_loss: 1.3574 - val_accuracy: 0.5204\n",
      "Epoch 105/200\n",
      "658/658 [==============================] - 19s 29ms/step - loss: 0.8149 - accuracy: 0.6883 - val_loss: 1.3631 - val_accuracy: 0.5205\n",
      "Epoch 106/200\n",
      "658/658 [==============================] - 18s 28ms/step - loss: 0.8161 - accuracy: 0.6897 - val_loss: 1.3640 - val_accuracy: 0.5221\n",
      "Epoch 107/200\n",
      "658/658 [==============================] - 19s 29ms/step - loss: 0.8034 - accuracy: 0.6927 - val_loss: 1.3787 - val_accuracy: 0.5189\n",
      "Epoch 108/200\n",
      "216/658 [========>.....................] - ETA: 11s - loss: 0.7955 - accuracy: 0.7002"
     ]
    },
    {
     "ename": "KeyboardInterrupt",
     "evalue": "",
     "output_type": "error",
     "traceback": [
      "\u001b[0;31m---------------------------------------------------------------------------\u001b[0m",
      "\u001b[0;31mKeyboardInterrupt\u001b[0m                         Traceback (most recent call last)",
      "\u001b[0;32m<ipython-input-15-ad99cf5eacfa>\u001b[0m in \u001b[0;36m<module>\u001b[0;34m\u001b[0m\n\u001b[0;32m----> 1\u001b[0;31m \u001b[0mhistory\u001b[0m \u001b[0;34m=\u001b[0m \u001b[0mmodel\u001b[0m\u001b[0;34m.\u001b[0m\u001b[0mfit\u001b[0m\u001b[0;34m(\u001b[0m\u001b[0mX_train\u001b[0m\u001b[0;34m,\u001b[0m \u001b[0my_train\u001b[0m\u001b[0;34m,\u001b[0m \u001b[0mvalidation_data\u001b[0m\u001b[0;34m=\u001b[0m\u001b[0;34m(\u001b[0m\u001b[0mX_test\u001b[0m\u001b[0;34m,\u001b[0m \u001b[0my_test\u001b[0m\u001b[0;34m)\u001b[0m\u001b[0;34m,\u001b[0m \u001b[0mbatch_size\u001b[0m\u001b[0;34m=\u001b[0m\u001b[0;36m32\u001b[0m\u001b[0;34m,\u001b[0m \u001b[0mepochs\u001b[0m\u001b[0;34m=\u001b[0m\u001b[0;36m200\u001b[0m\u001b[0;34m)\u001b[0m\u001b[0;34m\u001b[0m\u001b[0;34m\u001b[0m\u001b[0m\n\u001b[0m",
      "\u001b[0;32m/Library/Python/3.7/site-packages/tensorflow/python/keras/engine/training.py\u001b[0m in \u001b[0;36m_method_wrapper\u001b[0;34m(self, *args, **kwargs)\u001b[0m\n\u001b[1;32m     64\u001b[0m   \u001b[0;32mdef\u001b[0m \u001b[0m_method_wrapper\u001b[0m\u001b[0;34m(\u001b[0m\u001b[0mself\u001b[0m\u001b[0;34m,\u001b[0m \u001b[0;34m*\u001b[0m\u001b[0margs\u001b[0m\u001b[0;34m,\u001b[0m \u001b[0;34m**\u001b[0m\u001b[0mkwargs\u001b[0m\u001b[0;34m)\u001b[0m\u001b[0;34m:\u001b[0m\u001b[0;34m\u001b[0m\u001b[0;34m\u001b[0m\u001b[0m\n\u001b[1;32m     65\u001b[0m     \u001b[0;32mif\u001b[0m \u001b[0;32mnot\u001b[0m \u001b[0mself\u001b[0m\u001b[0;34m.\u001b[0m\u001b[0m_in_multi_worker_mode\u001b[0m\u001b[0;34m(\u001b[0m\u001b[0;34m)\u001b[0m\u001b[0;34m:\u001b[0m  \u001b[0;31m# pylint: disable=protected-access\u001b[0m\u001b[0;34m\u001b[0m\u001b[0;34m\u001b[0m\u001b[0m\n\u001b[0;32m---> 66\u001b[0;31m       \u001b[0;32mreturn\u001b[0m \u001b[0mmethod\u001b[0m\u001b[0;34m(\u001b[0m\u001b[0mself\u001b[0m\u001b[0;34m,\u001b[0m \u001b[0;34m*\u001b[0m\u001b[0margs\u001b[0m\u001b[0;34m,\u001b[0m \u001b[0;34m**\u001b[0m\u001b[0mkwargs\u001b[0m\u001b[0;34m)\u001b[0m\u001b[0;34m\u001b[0m\u001b[0;34m\u001b[0m\u001b[0m\n\u001b[0m\u001b[1;32m     67\u001b[0m \u001b[0;34m\u001b[0m\u001b[0m\n\u001b[1;32m     68\u001b[0m     \u001b[0;31m# Running inside `run_distribute_coordinator` already.\u001b[0m\u001b[0;34m\u001b[0m\u001b[0;34m\u001b[0m\u001b[0;34m\u001b[0m\u001b[0m\n",
      "\u001b[0;32m/Library/Python/3.7/site-packages/tensorflow/python/keras/engine/training.py\u001b[0m in \u001b[0;36mfit\u001b[0;34m(self, x, y, batch_size, epochs, verbose, callbacks, validation_split, validation_data, shuffle, class_weight, sample_weight, initial_epoch, steps_per_epoch, validation_steps, validation_batch_size, validation_freq, max_queue_size, workers, use_multiprocessing)\u001b[0m\n\u001b[1;32m    846\u001b[0m                 batch_size=batch_size):\n\u001b[1;32m    847\u001b[0m               \u001b[0mcallbacks\u001b[0m\u001b[0;34m.\u001b[0m\u001b[0mon_train_batch_begin\u001b[0m\u001b[0;34m(\u001b[0m\u001b[0mstep\u001b[0m\u001b[0;34m)\u001b[0m\u001b[0;34m\u001b[0m\u001b[0;34m\u001b[0m\u001b[0m\n\u001b[0;32m--> 848\u001b[0;31m               \u001b[0mtmp_logs\u001b[0m \u001b[0;34m=\u001b[0m \u001b[0mtrain_function\u001b[0m\u001b[0;34m(\u001b[0m\u001b[0miterator\u001b[0m\u001b[0;34m)\u001b[0m\u001b[0;34m\u001b[0m\u001b[0;34m\u001b[0m\u001b[0m\n\u001b[0m\u001b[1;32m    849\u001b[0m               \u001b[0;31m# Catch OutOfRangeError for Datasets of unknown size.\u001b[0m\u001b[0;34m\u001b[0m\u001b[0;34m\u001b[0m\u001b[0;34m\u001b[0m\u001b[0m\n\u001b[1;32m    850\u001b[0m               \u001b[0;31m# This blocks until the batch has finished executing.\u001b[0m\u001b[0;34m\u001b[0m\u001b[0;34m\u001b[0m\u001b[0;34m\u001b[0m\u001b[0m\n",
      "\u001b[0;32m/Library/Python/3.7/site-packages/tensorflow/python/eager/def_function.py\u001b[0m in \u001b[0;36m__call__\u001b[0;34m(self, *args, **kwds)\u001b[0m\n\u001b[1;32m    578\u001b[0m         \u001b[0mxla_context\u001b[0m\u001b[0;34m.\u001b[0m\u001b[0mExit\u001b[0m\u001b[0;34m(\u001b[0m\u001b[0;34m)\u001b[0m\u001b[0;34m\u001b[0m\u001b[0;34m\u001b[0m\u001b[0m\n\u001b[1;32m    579\u001b[0m     \u001b[0;32melse\u001b[0m\u001b[0;34m:\u001b[0m\u001b[0;34m\u001b[0m\u001b[0;34m\u001b[0m\u001b[0m\n\u001b[0;32m--> 580\u001b[0;31m       \u001b[0mresult\u001b[0m \u001b[0;34m=\u001b[0m \u001b[0mself\u001b[0m\u001b[0;34m.\u001b[0m\u001b[0m_call\u001b[0m\u001b[0;34m(\u001b[0m\u001b[0;34m*\u001b[0m\u001b[0margs\u001b[0m\u001b[0;34m,\u001b[0m \u001b[0;34m**\u001b[0m\u001b[0mkwds\u001b[0m\u001b[0;34m)\u001b[0m\u001b[0;34m\u001b[0m\u001b[0;34m\u001b[0m\u001b[0m\n\u001b[0m\u001b[1;32m    581\u001b[0m \u001b[0;34m\u001b[0m\u001b[0m\n\u001b[1;32m    582\u001b[0m     \u001b[0;32mif\u001b[0m \u001b[0mtracing_count\u001b[0m \u001b[0;34m==\u001b[0m \u001b[0mself\u001b[0m\u001b[0;34m.\u001b[0m\u001b[0m_get_tracing_count\u001b[0m\u001b[0;34m(\u001b[0m\u001b[0;34m)\u001b[0m\u001b[0;34m:\u001b[0m\u001b[0;34m\u001b[0m\u001b[0;34m\u001b[0m\u001b[0m\n",
      "\u001b[0;32m/Library/Python/3.7/site-packages/tensorflow/python/eager/def_function.py\u001b[0m in \u001b[0;36m_call\u001b[0;34m(self, *args, **kwds)\u001b[0m\n\u001b[1;32m    609\u001b[0m       \u001b[0;31m# In this case we have created variables on the first call, so we run the\u001b[0m\u001b[0;34m\u001b[0m\u001b[0;34m\u001b[0m\u001b[0;34m\u001b[0m\u001b[0m\n\u001b[1;32m    610\u001b[0m       \u001b[0;31m# defunned version which is guaranteed to never create variables.\u001b[0m\u001b[0;34m\u001b[0m\u001b[0;34m\u001b[0m\u001b[0;34m\u001b[0m\u001b[0m\n\u001b[0;32m--> 611\u001b[0;31m       \u001b[0;32mreturn\u001b[0m \u001b[0mself\u001b[0m\u001b[0;34m.\u001b[0m\u001b[0m_stateless_fn\u001b[0m\u001b[0;34m(\u001b[0m\u001b[0;34m*\u001b[0m\u001b[0margs\u001b[0m\u001b[0;34m,\u001b[0m \u001b[0;34m**\u001b[0m\u001b[0mkwds\u001b[0m\u001b[0;34m)\u001b[0m  \u001b[0;31m# pylint: disable=not-callable\u001b[0m\u001b[0;34m\u001b[0m\u001b[0;34m\u001b[0m\u001b[0m\n\u001b[0m\u001b[1;32m    612\u001b[0m     \u001b[0;32melif\u001b[0m \u001b[0mself\u001b[0m\u001b[0;34m.\u001b[0m\u001b[0m_stateful_fn\u001b[0m \u001b[0;32mis\u001b[0m \u001b[0;32mnot\u001b[0m \u001b[0;32mNone\u001b[0m\u001b[0;34m:\u001b[0m\u001b[0;34m\u001b[0m\u001b[0;34m\u001b[0m\u001b[0m\n\u001b[1;32m    613\u001b[0m       \u001b[0;31m# Release the lock early so that multiple threads can perform the call\u001b[0m\u001b[0;34m\u001b[0m\u001b[0;34m\u001b[0m\u001b[0;34m\u001b[0m\u001b[0m\n",
      "\u001b[0;32m/Library/Python/3.7/site-packages/tensorflow/python/eager/function.py\u001b[0m in \u001b[0;36m__call__\u001b[0;34m(self, *args, **kwargs)\u001b[0m\n\u001b[1;32m   2418\u001b[0m     \u001b[0;32mwith\u001b[0m \u001b[0mself\u001b[0m\u001b[0;34m.\u001b[0m\u001b[0m_lock\u001b[0m\u001b[0;34m:\u001b[0m\u001b[0;34m\u001b[0m\u001b[0;34m\u001b[0m\u001b[0m\n\u001b[1;32m   2419\u001b[0m       \u001b[0mgraph_function\u001b[0m\u001b[0;34m,\u001b[0m \u001b[0margs\u001b[0m\u001b[0;34m,\u001b[0m \u001b[0mkwargs\u001b[0m \u001b[0;34m=\u001b[0m \u001b[0mself\u001b[0m\u001b[0;34m.\u001b[0m\u001b[0m_maybe_define_function\u001b[0m\u001b[0;34m(\u001b[0m\u001b[0margs\u001b[0m\u001b[0;34m,\u001b[0m \u001b[0mkwargs\u001b[0m\u001b[0;34m)\u001b[0m\u001b[0;34m\u001b[0m\u001b[0;34m\u001b[0m\u001b[0m\n\u001b[0;32m-> 2420\u001b[0;31m     \u001b[0;32mreturn\u001b[0m \u001b[0mgraph_function\u001b[0m\u001b[0;34m.\u001b[0m\u001b[0m_filtered_call\u001b[0m\u001b[0;34m(\u001b[0m\u001b[0margs\u001b[0m\u001b[0;34m,\u001b[0m \u001b[0mkwargs\u001b[0m\u001b[0;34m)\u001b[0m  \u001b[0;31m# pylint: disable=protected-access\u001b[0m\u001b[0;34m\u001b[0m\u001b[0;34m\u001b[0m\u001b[0m\n\u001b[0m\u001b[1;32m   2421\u001b[0m \u001b[0;34m\u001b[0m\u001b[0m\n\u001b[1;32m   2422\u001b[0m   \u001b[0;34m@\u001b[0m\u001b[0mproperty\u001b[0m\u001b[0;34m\u001b[0m\u001b[0;34m\u001b[0m\u001b[0m\n",
      "\u001b[0;32m/Library/Python/3.7/site-packages/tensorflow/python/eager/function.py\u001b[0m in \u001b[0;36m_filtered_call\u001b[0;34m(self, args, kwargs)\u001b[0m\n\u001b[1;32m   1663\u001b[0m          if isinstance(t, (ops.Tensor,\n\u001b[1;32m   1664\u001b[0m                            resource_variable_ops.BaseResourceVariable))),\n\u001b[0;32m-> 1665\u001b[0;31m         self.captured_inputs)\n\u001b[0m\u001b[1;32m   1666\u001b[0m \u001b[0;34m\u001b[0m\u001b[0m\n\u001b[1;32m   1667\u001b[0m   \u001b[0;32mdef\u001b[0m \u001b[0m_call_flat\u001b[0m\u001b[0;34m(\u001b[0m\u001b[0mself\u001b[0m\u001b[0;34m,\u001b[0m \u001b[0margs\u001b[0m\u001b[0;34m,\u001b[0m \u001b[0mcaptured_inputs\u001b[0m\u001b[0;34m,\u001b[0m \u001b[0mcancellation_manager\u001b[0m\u001b[0;34m=\u001b[0m\u001b[0;32mNone\u001b[0m\u001b[0;34m)\u001b[0m\u001b[0;34m:\u001b[0m\u001b[0;34m\u001b[0m\u001b[0;34m\u001b[0m\u001b[0m\n",
      "\u001b[0;32m/Library/Python/3.7/site-packages/tensorflow/python/eager/function.py\u001b[0m in \u001b[0;36m_call_flat\u001b[0;34m(self, args, captured_inputs, cancellation_manager)\u001b[0m\n\u001b[1;32m   1744\u001b[0m       \u001b[0;31m# No tape is watching; skip to running the function.\u001b[0m\u001b[0;34m\u001b[0m\u001b[0;34m\u001b[0m\u001b[0;34m\u001b[0m\u001b[0m\n\u001b[1;32m   1745\u001b[0m       return self._build_call_outputs(self._inference_function.call(\n\u001b[0;32m-> 1746\u001b[0;31m           ctx, args, cancellation_manager=cancellation_manager))\n\u001b[0m\u001b[1;32m   1747\u001b[0m     forward_backward = self._select_forward_and_backward_functions(\n\u001b[1;32m   1748\u001b[0m         \u001b[0margs\u001b[0m\u001b[0;34m,\u001b[0m\u001b[0;34m\u001b[0m\u001b[0;34m\u001b[0m\u001b[0m\n",
      "\u001b[0;32m/Library/Python/3.7/site-packages/tensorflow/python/eager/function.py\u001b[0m in \u001b[0;36mcall\u001b[0;34m(self, ctx, args, cancellation_manager)\u001b[0m\n\u001b[1;32m    596\u001b[0m               \u001b[0minputs\u001b[0m\u001b[0;34m=\u001b[0m\u001b[0margs\u001b[0m\u001b[0;34m,\u001b[0m\u001b[0;34m\u001b[0m\u001b[0;34m\u001b[0m\u001b[0m\n\u001b[1;32m    597\u001b[0m               \u001b[0mattrs\u001b[0m\u001b[0;34m=\u001b[0m\u001b[0mattrs\u001b[0m\u001b[0;34m,\u001b[0m\u001b[0;34m\u001b[0m\u001b[0;34m\u001b[0m\u001b[0m\n\u001b[0;32m--> 598\u001b[0;31m               ctx=ctx)\n\u001b[0m\u001b[1;32m    599\u001b[0m         \u001b[0;32melse\u001b[0m\u001b[0;34m:\u001b[0m\u001b[0;34m\u001b[0m\u001b[0;34m\u001b[0m\u001b[0m\n\u001b[1;32m    600\u001b[0m           outputs = execute.execute_with_cancellation(\n",
      "\u001b[0;32m/Library/Python/3.7/site-packages/tensorflow/python/eager/execute.py\u001b[0m in \u001b[0;36mquick_execute\u001b[0;34m(op_name, num_outputs, inputs, attrs, ctx, name)\u001b[0m\n\u001b[1;32m     58\u001b[0m     \u001b[0mctx\u001b[0m\u001b[0;34m.\u001b[0m\u001b[0mensure_initialized\u001b[0m\u001b[0;34m(\u001b[0m\u001b[0;34m)\u001b[0m\u001b[0;34m\u001b[0m\u001b[0;34m\u001b[0m\u001b[0m\n\u001b[1;32m     59\u001b[0m     tensors = pywrap_tfe.TFE_Py_Execute(ctx._handle, device_name, op_name,\n\u001b[0;32m---> 60\u001b[0;31m                                         inputs, attrs, num_outputs)\n\u001b[0m\u001b[1;32m     61\u001b[0m   \u001b[0;32mexcept\u001b[0m \u001b[0mcore\u001b[0m\u001b[0;34m.\u001b[0m\u001b[0m_NotOkStatusException\u001b[0m \u001b[0;32mas\u001b[0m \u001b[0me\u001b[0m\u001b[0;34m:\u001b[0m\u001b[0;34m\u001b[0m\u001b[0;34m\u001b[0m\u001b[0m\n\u001b[1;32m     62\u001b[0m     \u001b[0;32mif\u001b[0m \u001b[0mname\u001b[0m \u001b[0;32mis\u001b[0m \u001b[0;32mnot\u001b[0m \u001b[0;32mNone\u001b[0m\u001b[0;34m:\u001b[0m\u001b[0;34m\u001b[0m\u001b[0;34m\u001b[0m\u001b[0m\n",
      "\u001b[0;31mKeyboardInterrupt\u001b[0m: "
     ]
    }
   ],
   "source": [
    "history = model.fit(X_train, y_train, validation_data=(X_test, y_test), batch_size=32, epochs=200)"
   ]
  },
  {
   "cell_type": "code",
   "execution_count": null,
   "metadata": {},
   "outputs": [],
   "source": []
  }
 ],
 "metadata": {
  "kernelspec": {
   "display_name": "Python 3",
   "language": "python",
   "name": "python3"
  },
  "language_info": {
   "codemirror_mode": {
    "name": "ipython",
    "version": 3
   },
   "file_extension": ".py",
   "mimetype": "text/x-python",
   "name": "python",
   "nbconvert_exporter": "python",
   "pygments_lexer": "ipython3",
   "version": "3.7.3"
  }
 },
 "nbformat": 4,
 "nbformat_minor": 4
}
